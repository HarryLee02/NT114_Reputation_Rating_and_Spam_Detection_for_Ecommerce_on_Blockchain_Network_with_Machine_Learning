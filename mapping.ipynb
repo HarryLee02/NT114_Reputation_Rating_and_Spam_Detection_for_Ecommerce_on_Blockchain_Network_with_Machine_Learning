{
 "cells": [
  {
   "cell_type": "code",
   "execution_count": 15,
   "metadata": {},
   "outputs": [],
   "source": [
    "import pandas as pd\n",
    "import numpy as np\n",
    "import matplotlib.pyplot as plt"
   ]
  },
  {
   "cell_type": "code",
   "execution_count": 11,
   "metadata": {},
   "outputs": [],
   "source": [
    "import torch.nn as nn\n",
    "import torch\n",
    "import torch.optim as optim\n",
    "from torch.utils.data import DataLoader"
   ]
  },
  {
   "cell_type": "code",
   "execution_count": 3,
   "metadata": {},
   "outputs": [],
   "source": [
    "dataset_path='vispamdetection_dataset'\n",
    "\n",
    "data = pd.read_csv(dataset_path+'/reviews.csv/reviews.csv')\n",
    "vocab = pd.read_json('vocab/vocab.json', orient='index')\n"
   ]
  },
  {
   "cell_type": "code",
   "execution_count": 4,
   "metadata": {},
   "outputs": [
    {
     "data": {
      "text/html": [
       "<div>\n",
       "<style scoped>\n",
       "    .dataframe tbody tr th:only-of-type {\n",
       "        vertical-align: middle;\n",
       "    }\n",
       "\n",
       "    .dataframe tbody tr th {\n",
       "        vertical-align: top;\n",
       "    }\n",
       "\n",
       "    .dataframe thead th {\n",
       "        text-align: right;\n",
       "    }\n",
       "</style>\n",
       "<table border=\"1\" class=\"dataframe\">\n",
       "  <thead>\n",
       "    <tr style=\"text-align: right;\">\n",
       "      <th></th>\n",
       "      <th>link</th>\n",
       "      <th>rating</th>\n",
       "      <th>comment</th>\n",
       "      <th>label</th>\n",
       "      <th>spam_label</th>\n",
       "    </tr>\n",
       "  </thead>\n",
       "  <tbody>\n",
       "    <tr>\n",
       "      <th>0</th>\n",
       "      <td>https://shopee.vn/Ví-nam-đựng-Card-Feasty-da-n...</td>\n",
       "      <td>5</td>\n",
       "      <td>Tuyệt vời cho các e bé nghe đáng kể vs anh đi ...</td>\n",
       "      <td>1</td>\n",
       "      <td>3</td>\n",
       "    </tr>\n",
       "    <tr>\n",
       "      <th>1</th>\n",
       "      <td>https://shopee.vn/Ví-nam-đựng-Card-Feasty-da-n...</td>\n",
       "      <td>5</td>\n",
       "      <td>Chiến dịch tiêm vaccine Covid-19 toàn dân bắt ...</td>\n",
       "      <td>1</td>\n",
       "      <td>3</td>\n",
       "    </tr>\n",
       "    <tr>\n",
       "      <th>2</th>\n",
       "      <td>https://shopee.vn/Ví-nam-đựng-Card-Feasty-da-n...</td>\n",
       "      <td>5</td>\n",
       "      <td>Nsnwnwnxnwkkxmmxmsmwmsmsxnndnwnxnsnwnznn ncn1m...</td>\n",
       "      <td>1</td>\n",
       "      <td>3</td>\n",
       "    </tr>\n",
       "    <tr>\n",
       "      <th>3</th>\n",
       "      <td>https://shopee.vn/Ví-nam-đựng-Card-Feasty-da-n...</td>\n",
       "      <td>2</td>\n",
       "      <td>Chất lượng sản phẩm ko như quảng cáo, kich thu...</td>\n",
       "      <td>0</td>\n",
       "      <td>0</td>\n",
       "    </tr>\n",
       "    <tr>\n",
       "      <th>4</th>\n",
       "      <td>https://shopee.vn/Ví-nam-đựng-Card-Feasty-da-n...</td>\n",
       "      <td>5</td>\n",
       "      <td>Giao hàng nhanh. Shop đóng gói cẩn thận, thế n...</td>\n",
       "      <td>0</td>\n",
       "      <td>0</td>\n",
       "    </tr>\n",
       "  </tbody>\n",
       "</table>\n",
       "</div>"
      ],
      "text/plain": [
       "                                                link  rating  \\\n",
       "0  https://shopee.vn/Ví-nam-đựng-Card-Feasty-da-n...       5   \n",
       "1  https://shopee.vn/Ví-nam-đựng-Card-Feasty-da-n...       5   \n",
       "2  https://shopee.vn/Ví-nam-đựng-Card-Feasty-da-n...       5   \n",
       "3  https://shopee.vn/Ví-nam-đựng-Card-Feasty-da-n...       2   \n",
       "4  https://shopee.vn/Ví-nam-đựng-Card-Feasty-da-n...       5   \n",
       "\n",
       "                                             comment  label  spam_label  \n",
       "0  Tuyệt vời cho các e bé nghe đáng kể vs anh đi ...      1           3  \n",
       "1  Chiến dịch tiêm vaccine Covid-19 toàn dân bắt ...      1           3  \n",
       "2  Nsnwnwnxnwkkxmmxmsmwmsmsxnndnwnxnsnwnznn ncn1m...      1           3  \n",
       "3  Chất lượng sản phẩm ko như quảng cáo, kich thu...      0           0  \n",
       "4  Giao hàng nhanh. Shop đóng gói cẩn thận, thế n...      0           0  "
      ]
     },
     "execution_count": 4,
     "metadata": {},
     "output_type": "execute_result"
    }
   ],
   "source": [
    "data.head()"
   ]
  },
  {
   "cell_type": "code",
   "execution_count": 5,
   "metadata": {},
   "outputs": [
    {
     "data": {
      "text/html": [
       "<div>\n",
       "<style scoped>\n",
       "    .dataframe tbody tr th:only-of-type {\n",
       "        vertical-align: middle;\n",
       "    }\n",
       "\n",
       "    .dataframe tbody tr th {\n",
       "        vertical-align: top;\n",
       "    }\n",
       "\n",
       "    .dataframe thead th {\n",
       "        text-align: right;\n",
       "    }\n",
       "</style>\n",
       "<table border=\"1\" class=\"dataframe\">\n",
       "  <thead>\n",
       "    <tr style=\"text-align: right;\">\n",
       "      <th></th>\n",
       "      <th>0</th>\n",
       "    </tr>\n",
       "  </thead>\n",
       "  <tbody>\n",
       "    <tr>\n",
       "      <th>a</th>\n",
       "      <td>1</td>\n",
       "    </tr>\n",
       "    <tr>\n",
       "      <th>A</th>\n",
       "      <td>2</td>\n",
       "    </tr>\n",
       "    <tr>\n",
       "      <th>a-ba-giua</th>\n",
       "      <td>3</td>\n",
       "    </tr>\n",
       "    <tr>\n",
       "      <th>a-ba-toa</th>\n",
       "      <td>4</td>\n",
       "    </tr>\n",
       "    <tr>\n",
       "      <th>a bàng</th>\n",
       "      <td>5</td>\n",
       "    </tr>\n",
       "  </tbody>\n",
       "</table>\n",
       "</div>"
      ],
      "text/plain": [
       "           0\n",
       "a          1\n",
       "A          2\n",
       "a-ba-giua  3\n",
       "a-ba-toa   4\n",
       "a bàng     5"
      ]
     },
     "execution_count": 5,
     "metadata": {},
     "output_type": "execute_result"
    }
   ],
   "source": [
    "vocab.head()"
   ]
  },
  {
   "cell_type": "code",
   "execution_count": 6,
   "metadata": {},
   "outputs": [],
   "source": [
    "test_dataset = data.head()\n",
    "vocab_dict = vocab.to_dict()[0]"
   ]
  },
  {
   "cell_type": "code",
   "execution_count": 8,
   "metadata": {},
   "outputs": [
    {
     "data": {
      "text/plain": [
       "[67253,\n",
       " 70515,\n",
       " 12407,\n",
       " 7842,\n",
       " 24599,\n",
       " 4375,\n",
       " 42710,\n",
       " 20367,\n",
       " 31911,\n",
       " 0,\n",
       " 626,\n",
       " 21898,\n",
       " 1024,\n",
       " 63864,\n",
       " 68450,\n",
       " 42883,\n",
       " 21810,\n",
       " 65213,\n",
       " 38985,\n",
       " 3535,\n",
       " 132,\n",
       " 24647,\n",
       " 41248,\n",
       " 45700,\n",
       " 7842,\n",
       " 2904,\n",
       " 65128,\n",
       " 38335,\n",
       " 33418,\n",
       " 9382,\n",
       " 60104,\n",
       " 21740,\n",
       " 62693,\n",
       " 64313,\n",
       " 30495,\n",
       " 25148,\n",
       " 24154,\n",
       " 34762,\n",
       " 33418,\n",
       " 59574,\n",
       " 60165,\n",
       " 16277,\n",
       " 3133,\n",
       " 27122,\n",
       " 14268,\n",
       " 66406,\n",
       " 64653,\n",
       " 27898,\n",
       " 29585,\n",
       " 30750,\n",
       " 68339,\n",
       " 28780]"
      ]
     },
     "execution_count": 8,
     "metadata": {},
     "output_type": "execute_result"
    }
   ],
   "source": [
    "def encode_sentence(s, vocab):\n",
    "    return [vocab.get(i, 0) for i in s.lower().split()]\n",
    "\n",
    "encode_sentence(test_dataset['comment'][0], vocab_dict)"
   ]
  },
  {
   "cell_type": "code",
   "execution_count": 12,
   "metadata": {},
   "outputs": [],
   "source": [
    "class RNNModel(nn.Module):\n",
    "    def __init__(self, vocab_size, embed_size, hidden_size, output_size):\n",
    "        super(RNNModel, self).__init__()\n",
    "        self.embedding = nn.Embedding(vocab_size, embed_size)\n",
    "        self.rnn = nn.RNN(embed_size, hidden_size, batch_first=True)\n",
    "        self.fc = nn.Linear(hidden_size, output_size)\n",
    "        \n",
    "    def forward(self, x):\n",
    "        x = self.embedding(x)\n",
    "        _, hidden = self.rnn(x)\n",
    "        output = self.fc(hidden.squeeze(0))\n",
    "        return torch.sigmoid(output)"
   ]
  },
  {
   "cell_type": "code",
   "execution_count": 13,
   "metadata": {},
   "outputs": [],
   "source": [
    "class LSTMModel(nn.Module):\n",
    "    def __init__(self, vocab_size, embed_size, hidden_size, output_size):\n",
    "        super(LSTMModel, self).__init__()\n",
    "        self.embedding = nn.Embedding(vocab_size, embed_size)\n",
    "        self.lstm = nn.LSTM(embed_size, hidden_size, batch_first=True)\n",
    "        self.fc = nn.Linear(hidden_size, output_size)\n",
    "        \n",
    "    def forward(self, x):\n",
    "        x = self.embedding(x)\n",
    "        _, (hidden, _) = self.lstm(x)\n",
    "        output = self.fc(hidden.squeeze(0))\n",
    "        return torch.sigmoid(output)"
   ]
  },
  {
   "cell_type": "code",
   "execution_count": 14,
   "metadata": {},
   "outputs": [],
   "source": [
    "class GRUModel(nn.Module):\n",
    "    def __init__(self, vocab_size, embed_size, hidden_size, output_size):\n",
    "        super(GRUModel, self).__init__()\n",
    "        self.embedding = nn.Embedding(vocab_size, embed_size)\n",
    "        self.gru = nn.GRU(embed_size, hidden_size, batch_first=True)\n",
    "        self.fc = nn.Linear(hidden_size, output_size)\n",
    "        \n",
    "    def forward(self, x):\n",
    "        x = self.embedding(x)\n",
    "        _, hidden = self.gru(x)\n",
    "        output = self.fc(hidden.squeeze(0))\n",
    "        return torch.sigmoid(output)"
   ]
  },
  {
   "cell_type": "code",
   "execution_count": null,
   "metadata": {},
   "outputs": [],
   "source": [
    "def train_model(model, train_loader, val_loader, criterion, optimizer, epochs=10, device=\"cpu\"):\n",
    "\n",
    "    model = model.to(device)\n",
    "    for epoch in range(epochs):\n",
    "        \n",
    "        model.train()\n",
    "        train_loss = 0\n",
    "        for inputs, labels in train_loader:\n",
    "            inputs, labels = inputs.to(device), labels.to(device)\n",
    "            optimizer.zero_grad()\n",
    "            outputs = model(inputs)\n",
    "            loss = criterion(outputs.squeeze(), labels.float())\n",
    "            loss.backward()\n",
    "            optimizer.step()\n",
    "            train_loss += loss.item()\n",
    "\n",
    "        \n",
    "        model.eval()\n",
    "        val_loss = 0\n",
    "        with torch.no_grad():\n",
    "            for inputs, labels in val_loader:\n",
    "                inputs, labels = inputs.to(device), labels.to(device)\n",
    "                outputs = model(inputs)\n",
    "                loss = criterion(outputs.squeeze(), labels.float())\n",
    "                val_loss += loss.item()\n",
    "\n",
    "        print(f\"Epoch {epoch + 1}/{epochs}, Train Loss: {train_loss / len(train_loader):.4f}, Validation Loss: {val_loss / len(val_loader):.4f}\")"
   ]
  },
  {
   "cell_type": "code",
   "execution_count": 17,
   "metadata": {},
   "outputs": [],
   "source": [
    "vocab_size = len(vocab_dict) + 1  # Vocabulary size (+1 for unknown tokens)\n",
    "embed_dim = 100  # Size of word embeddings\n",
    "hidden_dim = 128  # Number of hidden units\n",
    "output_dim = 1  # For binary classification\n",
    "\n",
    "# Instantiate each model\n",
    "rnn_model = RNNModel(vocab_size, embed_dim, hidden_dim, output_dim)\n",
    "lstm_model = LSTMModel(vocab_size, embed_dim, hidden_dim, output_dim)\n",
    "gru_model = GRUModel(vocab_size, embed_dim, hidden_dim, output_dim)\n"
   ]
  },
  {
   "cell_type": "code",
   "execution_count": 18,
   "metadata": {},
   "outputs": [],
   "source": [
    "# Binary Cross Entropy Loss for binary classification\n",
    "criterion = nn.BCELoss()\n",
    "\n",
    "# Optimizers for each model\n",
    "rnn_optimizer = optim.Adam(rnn_model.parameters(), lr=0.001)\n",
    "lstm_optimizer = optim.Adam(lstm_model.parameters(), lr=0.001)\n",
    "gru_optimizer = optim.Adam(gru_model.parameters(), lr=0.001)\n"
   ]
  }
 ],
 "metadata": {
  "kernelspec": {
   "display_name": "Python 3",
   "language": "python",
   "name": "python3"
  },
  "language_info": {
   "codemirror_mode": {
    "name": "ipython",
    "version": 3
   },
   "file_extension": ".py",
   "mimetype": "text/x-python",
   "name": "python",
   "nbconvert_exporter": "python",
   "pygments_lexer": "ipython3",
   "version": "3.13.0"
  }
 },
 "nbformat": 4,
 "nbformat_minor": 2
}
